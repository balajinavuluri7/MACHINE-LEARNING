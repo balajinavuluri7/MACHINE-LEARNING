{
 "cells": [
  {
   "cell_type": "code",
   "execution_count": 1,
   "id": "9a721683-98bf-4c1b-b8bb-481f39c1b7d7",
   "metadata": {},
   "outputs": [],
   "source": [
    "import pandas as pd\n",
    "import numpy as np\n",
    "import matplotlib.pyplot as plt\n",
    "import seaborn as sns"
   ]
  },
  {
   "cell_type": "code",
   "execution_count": 2,
   "id": "1fc129e7-2a9d-4c8f-8d93-183b6bd4adee",
   "metadata": {},
   "outputs": [],
   "source": [
    "df=pd.read_csv(r\"C:\\Users\\DELL\\Downloads\\business.retailsales.csv\")"
   ]
  },
  {
   "cell_type": "code",
   "execution_count": 57,
   "id": "6391b2f0-b486-4bbb-b1b9-8afe012b550e",
   "metadata": {},
   "outputs": [
    {
     "data": {
      "text/html": [
       "<div>\n",
       "<style scoped>\n",
       "    .dataframe tbody tr th:only-of-type {\n",
       "        vertical-align: middle;\n",
       "    }\n",
       "\n",
       "    .dataframe tbody tr th {\n",
       "        vertical-align: top;\n",
       "    }\n",
       "\n",
       "    .dataframe thead th {\n",
       "        text-align: right;\n",
       "    }\n",
       "</style>\n",
       "<table border=\"1\" class=\"dataframe\">\n",
       "  <thead>\n",
       "    <tr style=\"text-align: right;\">\n",
       "      <th></th>\n",
       "      <th>Product Type</th>\n",
       "      <th>Net Quantity</th>\n",
       "      <th>Gross Sales</th>\n",
       "      <th>Discounts</th>\n",
       "      <th>Returns</th>\n",
       "      <th>Total Net Sales</th>\n",
       "    </tr>\n",
       "  </thead>\n",
       "  <tbody>\n",
       "    <tr>\n",
       "      <th>0</th>\n",
       "      <td>Art &amp; Sculpture</td>\n",
       "      <td>34</td>\n",
       "      <td>14935.0</td>\n",
       "      <td>-594.00</td>\n",
       "      <td>-1609.0</td>\n",
       "      <td>12732.00</td>\n",
       "    </tr>\n",
       "    <tr>\n",
       "      <th>1</th>\n",
       "      <td>Basket</td>\n",
       "      <td>13</td>\n",
       "      <td>3744.0</td>\n",
       "      <td>-316.80</td>\n",
       "      <td>0.0</td>\n",
       "      <td>3427.20</td>\n",
       "    </tr>\n",
       "    <tr>\n",
       "      <th>2</th>\n",
       "      <td>Basket</td>\n",
       "      <td>12</td>\n",
       "      <td>3825.0</td>\n",
       "      <td>-201.60</td>\n",
       "      <td>-288.0</td>\n",
       "      <td>3335.40</td>\n",
       "    </tr>\n",
       "    <tr>\n",
       "      <th>3</th>\n",
       "      <td>Basket</td>\n",
       "      <td>17</td>\n",
       "      <td>3035.0</td>\n",
       "      <td>-63.25</td>\n",
       "      <td>0.0</td>\n",
       "      <td>2971.75</td>\n",
       "    </tr>\n",
       "    <tr>\n",
       "      <th>4</th>\n",
       "      <td>Art &amp; Sculpture</td>\n",
       "      <td>47</td>\n",
       "      <td>2696.8</td>\n",
       "      <td>-44.16</td>\n",
       "      <td>0.0</td>\n",
       "      <td>2652.64</td>\n",
       "    </tr>\n",
       "  </tbody>\n",
       "</table>\n",
       "</div>"
      ],
      "text/plain": [
       "      Product Type  Net Quantity  Gross Sales  Discounts  Returns  \\\n",
       "0  Art & Sculpture            34      14935.0    -594.00  -1609.0   \n",
       "1           Basket            13       3744.0    -316.80      0.0   \n",
       "2           Basket            12       3825.0    -201.60   -288.0   \n",
       "3           Basket            17       3035.0     -63.25      0.0   \n",
       "4  Art & Sculpture            47       2696.8     -44.16      0.0   \n",
       "\n",
       "   Total Net Sales  \n",
       "0         12732.00  \n",
       "1          3427.20  \n",
       "2          3335.40  \n",
       "3          2971.75  \n",
       "4          2652.64  "
      ]
     },
     "execution_count": 57,
     "metadata": {},
     "output_type": "execute_result"
    }
   ],
   "source": [
    "df.head()"
   ]
  },
  {
   "cell_type": "code",
   "execution_count": 58,
   "id": "d4fcb76c-316d-4e46-98a6-8bec6ea2f319",
   "metadata": {},
   "outputs": [
    {
     "data": {
      "text/plain": [
       "(1775, 6)"
      ]
     },
     "execution_count": 58,
     "metadata": {},
     "output_type": "execute_result"
    }
   ],
   "source": [
    "df.shape"
   ]
  },
  {
   "cell_type": "code",
   "execution_count": 59,
   "id": "c74967eb-fd7a-4994-9ab7-a72223307faf",
   "metadata": {},
   "outputs": [
    {
     "data": {
      "text/plain": [
       "Product Type        object\n",
       "Net Quantity         int64\n",
       "Gross Sales        float64\n",
       "Discounts          float64\n",
       "Returns            float64\n",
       "Total Net Sales    float64\n",
       "dtype: object"
      ]
     },
     "execution_count": 59,
     "metadata": {},
     "output_type": "execute_result"
    }
   ],
   "source": [
    "df.dtypes"
   ]
  },
  {
   "cell_type": "code",
   "execution_count": 60,
   "id": "8ff77b28-2b65-4aed-9b3f-484d2fb34017",
   "metadata": {},
   "outputs": [],
   "source": [
    "df=df.dropna()"
   ]
  },
  {
   "cell_type": "code",
   "execution_count": 61,
   "id": "84cd559c-4954-42b5-9857-7ff862e85e8b",
   "metadata": {},
   "outputs": [
    {
     "data": {
      "text/plain": [
       "511"
      ]
     },
     "execution_count": 61,
     "metadata": {},
     "output_type": "execute_result"
    }
   ],
   "source": [
    "df.duplicated().sum()"
   ]
  },
  {
   "cell_type": "code",
   "execution_count": 62,
   "id": "85ce1e34-cbd0-4106-8529-6acdfee2a8eb",
   "metadata": {},
   "outputs": [
    {
     "data": {
      "text/plain": [
       "Net Quantity       0.492947\n",
       "Gross Sales        0.996804\n",
       "Discounts         -0.838726\n",
       "Returns           -0.671234\n",
       "Total Net Sales    1.000000\n",
       "Name: Total Net Sales, dtype: float64"
      ]
     },
     "execution_count": 62,
     "metadata": {},
     "output_type": "execute_result"
    }
   ],
   "source": [
    "df.select_dtypes(include='number').corr()['Total Net Sales']"
   ]
  },
  {
   "cell_type": "code",
   "execution_count": 63,
   "id": "32a182e5-4163-40e9-8b3b-ab811635a370",
   "metadata": {},
   "outputs": [],
   "source": [
    "num_cols=df.select_dtypes(include='number')\n",
    "cat_cols=df.select_dtypes(include='object')"
   ]
  },
  {
   "cell_type": "code",
   "execution_count": 64,
   "id": "0ea086c5-8bf8-4900-b671-2b6794fde8a4",
   "metadata": {},
   "outputs": [
    {
     "data": {
      "text/plain": [
       "Net Quantity       0\n",
       "Gross Sales        0\n",
       "Discounts          0\n",
       "Returns            0\n",
       "Total Net Sales    0\n",
       "dtype: int64"
      ]
     },
     "execution_count": 64,
     "metadata": {},
     "output_type": "execute_result"
    }
   ],
   "source": [
    "num_cols.isnull().sum()"
   ]
  },
  {
   "cell_type": "code",
   "execution_count": 11,
   "id": "0022bd07-4c2e-45ca-853a-0cf3b7a3d058",
   "metadata": {},
   "outputs": [
    {
     "data": {
      "image/png": "[encoded data removed]",
      "text/plain": [
       "<Figure size 640x480 with 1 Axes>"
      ]
     },
     "metadata": {},
     "output_type": "display_data"
    }
   ],
   "source": [
    "sns.boxplot(num_cols)\n",
    "plt.show()"
   ]
  },
  {
   "cell_type": "code",
   "execution_count": 82,
   "id": "f5999b22-5b14-43c6-b14e-309334dc6fc6",
   "metadata": {},
   "outputs": [],
   "source": [
    "def wisker(col):\n",
    "   q1=num_cols[col].quantile(0.25)\n",
    "   q3=num_cols[col].quantile(0.75)\n",
    "   iqr=q3-q1\n",
    "   lower=q1-(1.5*iqr)\n",
    "   upper=q3+(1.5*iqr)\n",
    "   return lower,upper"
   ]
  },
  {
   "cell_type": "code",
   "execution_count": 83,
   "id": "3b1646bd-cb2b-458e-b483-39916e062dad",
   "metadata": {},
   "outputs": [],
   "source": [
    "for i in num_cols:\n",
    "  lower,upper=wisker(i)\n",
    "  num_cols[i]=np.where(num_cols[i]<lower,lower,num_cols[i])   \n",
    "  num_cols[i]=np.where(num_cols[i]>upper,upper,num_cols[i])"
   ]
  },
  {
   "cell_type": "code",
   "execution_count": 14,
   "id": "44419cee-f494-4229-b2fa-f5931824870a",
   "metadata": {},
   "outputs": [
    {
     "data": {
      "image/png": "[encoded data removed]",
      "text/plain": [
       "<Figure size 640x480 with 1 Axes>"
      ]
     },
     "metadata": {},
     "output_type": "display_data"
    }
   ],
   "source": [
    "sns.boxplot(num_cols)\n",
    "plt.show()"
   ]
  },
  {
   "cell_type": "code",
   "execution_count": 84,
   "id": "6a2bc82c-6855-4198-9f22-93550878b8ea",
   "metadata": {},
   "outputs": [
    {
     "data": {
      "text/plain": [
       "array([[1.        , 1.        , 0.        , 0.        , 1.        ],\n",
       "       [1.        , 1.        , 0.        , 0.        , 1.        ],\n",
       "       [1.        , 1.        , 0.        , 0.        , 1.        ],\n",
       "       ...,\n",
       "       [0.10526316, 0.29329962, 0.        , 0.        , 0.21190666],\n",
       "       [0.10526316, 0.04171934, 1.        , 0.        , 0.21190666],\n",
       "       [0.        , 0.        , 1.        , 0.        , 0.        ]])"
      ]
     },
     "execution_count": 84,
     "metadata": {},
     "output_type": "execute_result"
    }
   ],
   "source": [
    "from sklearn.preprocessing import MinMaxScaler\n",
    "mms=MinMaxScaler()\n",
    "mms.fit_transform(num_cols)"
   ]
  },
  {
   "cell_type": "code",
   "execution_count": 85,
   "id": "38f03445-0215-4c9b-a7c7-588bed16ac45",
   "metadata": {},
   "outputs": [],
   "source": [
    "num_cols_scaled=pd.DataFrame(num_cols)"
   ]
  },
  {
   "cell_type": "code",
   "execution_count": 86,
   "id": "b98c9528-2d84-4c90-8a56-be1e398056e4",
   "metadata": {},
   "outputs": [
    {
     "data": {
      "text/html": [
       "<div>\n",
       "<style scoped>\n",
       "    .dataframe tbody tr th:only-of-type {\n",
       "        vertical-align: middle;\n",
       "    }\n",
       "\n",
       "    .dataframe tbody tr th {\n",
       "        vertical-align: top;\n",
       "    }\n",
       "\n",
       "    .dataframe thead th {\n",
       "        text-align: right;\n",
       "    }\n",
       "</style>\n",
       "<table border=\"1\" class=\"dataframe\">\n",
       "  <thead>\n",
       "    <tr style=\"text-align: right;\">\n",
       "      <th></th>\n",
       "      <th>Net Quantity</th>\n",
       "      <th>Gross Sales</th>\n",
       "      <th>Discounts</th>\n",
       "      <th>Returns</th>\n",
       "      <th>Total Net Sales</th>\n",
       "    </tr>\n",
       "  </thead>\n",
       "  <tbody>\n",
       "    <tr>\n",
       "      <th>0</th>\n",
       "      <td>8.5</td>\n",
       "      <td>395.5</td>\n",
       "      <td>-15.4</td>\n",
       "      <td>0.0</td>\n",
       "      <td>395.15</td>\n",
       "    </tr>\n",
       "    <tr>\n",
       "      <th>1</th>\n",
       "      <td>8.5</td>\n",
       "      <td>395.5</td>\n",
       "      <td>-15.4</td>\n",
       "      <td>0.0</td>\n",
       "      <td>395.15</td>\n",
       "    </tr>\n",
       "    <tr>\n",
       "      <th>2</th>\n",
       "      <td>8.5</td>\n",
       "      <td>395.5</td>\n",
       "      <td>-15.4</td>\n",
       "      <td>0.0</td>\n",
       "      <td>395.15</td>\n",
       "    </tr>\n",
       "    <tr>\n",
       "      <th>3</th>\n",
       "      <td>8.5</td>\n",
       "      <td>395.5</td>\n",
       "      <td>-15.4</td>\n",
       "      <td>0.0</td>\n",
       "      <td>395.15</td>\n",
       "    </tr>\n",
       "    <tr>\n",
       "      <th>4</th>\n",
       "      <td>8.5</td>\n",
       "      <td>395.5</td>\n",
       "      <td>-15.4</td>\n",
       "      <td>0.0</td>\n",
       "      <td>395.15</td>\n",
       "    </tr>\n",
       "  </tbody>\n",
       "</table>\n",
       "</div>"
      ],
      "text/plain": [
       "   Net Quantity  Gross Sales  Discounts  Returns  Total Net Sales\n",
       "0           8.5        395.5      -15.4      0.0           395.15\n",
       "1           8.5        395.5      -15.4      0.0           395.15\n",
       "2           8.5        395.5      -15.4      0.0           395.15\n",
       "3           8.5        395.5      -15.4      0.0           395.15\n",
       "4           8.5        395.5      -15.4      0.0           395.15"
      ]
     },
     "execution_count": 86,
     "metadata": {},
     "output_type": "execute_result"
    }
   ],
   "source": [
    "num_cols_scaled.head()"
   ]
  },
  {
   "cell_type": "code",
   "execution_count": 87,
   "id": "3b4c52e0-a6b5-4dd2-bc57-7076cff5b516",
   "metadata": {},
   "outputs": [
    {
     "data": {
      "text/plain": [
       "Product Type    0\n",
       "dtype: int64"
      ]
     },
     "execution_count": 87,
     "metadata": {},
     "output_type": "execute_result"
    }
   ],
   "source": [
    "cat_cols.isnull().sum()"
   ]
  },
  {
   "cell_type": "code",
   "execution_count": 88,
   "id": "372bd3f5-434f-4cd8-b3f2-05b7d55fd5bc",
   "metadata": {},
   "outputs": [],
   "source": [
    "#cat_cols=cat_cols.dropna()"
   ]
  },
  {
   "cell_type": "code",
   "execution_count": 89,
   "id": "fc1c231a-c5a8-46e5-aa08-f7a97bd67d7a",
   "metadata": {},
   "outputs": [],
   "source": [
    "from sklearn.preprocessing import LabelEncoder\n",
    "le=LabelEncoder()"
   ]
  },
  {
   "cell_type": "code",
   "execution_count": 90,
   "id": "5cea531c-4384-4d0c-824c-620e8d91b624",
   "metadata": {},
   "outputs": [],
   "source": [
    "cat_cols_encoded=cat_cols.apply(le.fit_transform)"
   ]
  },
  {
   "cell_type": "code",
   "execution_count": 91,
   "id": "df9a9600-d6fc-4039-9cc5-bdcb4e7e9fdd",
   "metadata": {},
   "outputs": [
    {
     "data": {
      "text/html": [
       "<div>\n",
       "<style scoped>\n",
       "    .dataframe tbody tr th:only-of-type {\n",
       "        vertical-align: middle;\n",
       "    }\n",
       "\n",
       "    .dataframe tbody tr th {\n",
       "        vertical-align: top;\n",
       "    }\n",
       "\n",
       "    .dataframe thead th {\n",
       "        text-align: right;\n",
       "    }\n",
       "</style>\n",
       "<table border=\"1\" class=\"dataframe\">\n",
       "  <thead>\n",
       "    <tr style=\"text-align: right;\">\n",
       "      <th></th>\n",
       "      <th>Product Type</th>\n",
       "    </tr>\n",
       "  </thead>\n",
       "  <tbody>\n",
       "    <tr>\n",
       "      <th>0</th>\n",
       "      <td>1</td>\n",
       "    </tr>\n",
       "    <tr>\n",
       "      <th>1</th>\n",
       "      <td>2</td>\n",
       "    </tr>\n",
       "    <tr>\n",
       "      <th>2</th>\n",
       "      <td>2</td>\n",
       "    </tr>\n",
       "    <tr>\n",
       "      <th>3</th>\n",
       "      <td>2</td>\n",
       "    </tr>\n",
       "    <tr>\n",
       "      <th>4</th>\n",
       "      <td>1</td>\n",
       "    </tr>\n",
       "  </tbody>\n",
       "</table>\n",
       "</div>"
      ],
      "text/plain": [
       "   Product Type\n",
       "0             1\n",
       "1             2\n",
       "2             2\n",
       "3             2\n",
       "4             1"
      ]
     },
     "execution_count": 91,
     "metadata": {},
     "output_type": "execute_result"
    }
   ],
   "source": [
    "cat_cols_encoded.head()"
   ]
  },
  {
   "cell_type": "code",
   "execution_count": 92,
   "id": "ce67a274-e145-44df-b242-9c2f263539e6",
   "metadata": {},
   "outputs": [],
   "source": [
    "num_cols_scaled = num_cols_scaled.loc[cat_cols_encoded.index]"
   ]
  },
  {
   "cell_type": "code",
   "execution_count": 93,
   "id": "a40fb74d-e7a1-4e29-bad0-0c92cc553fcc",
   "metadata": {},
   "outputs": [],
   "source": [
    "df_final=pd.concat([num_cols_scaled,cat_cols_encoded],axis=1)"
   ]
  },
  {
   "cell_type": "code",
   "execution_count": 94,
   "id": "a20e0a06-4777-4516-bb00-d5d0fd6e2e01",
   "metadata": {},
   "outputs": [
    {
     "data": {
      "text/html": [
       "<div>\n",
       "<style scoped>\n",
       "    .dataframe tbody tr th:only-of-type {\n",
       "        vertical-align: middle;\n",
       "    }\n",
       "\n",
       "    .dataframe tbody tr th {\n",
       "        vertical-align: top;\n",
       "    }\n",
       "\n",
       "    .dataframe thead th {\n",
       "        text-align: right;\n",
       "    }\n",
       "</style>\n",
       "<table border=\"1\" class=\"dataframe\">\n",
       "  <thead>\n",
       "    <tr style=\"text-align: right;\">\n",
       "      <th></th>\n",
       "      <th>Net Quantity</th>\n",
       "      <th>Gross Sales</th>\n",
       "      <th>Discounts</th>\n",
       "      <th>Returns</th>\n",
       "      <th>Total Net Sales</th>\n",
       "      <th>Product Type</th>\n",
       "    </tr>\n",
       "  </thead>\n",
       "  <tbody>\n",
       "    <tr>\n",
       "      <th>0</th>\n",
       "      <td>8.5</td>\n",
       "      <td>395.5</td>\n",
       "      <td>-15.4</td>\n",
       "      <td>0.0</td>\n",
       "      <td>395.15</td>\n",
       "      <td>1</td>\n",
       "    </tr>\n",
       "    <tr>\n",
       "      <th>1</th>\n",
       "      <td>8.5</td>\n",
       "      <td>395.5</td>\n",
       "      <td>-15.4</td>\n",
       "      <td>0.0</td>\n",
       "      <td>395.15</td>\n",
       "      <td>2</td>\n",
       "    </tr>\n",
       "    <tr>\n",
       "      <th>2</th>\n",
       "      <td>8.5</td>\n",
       "      <td>395.5</td>\n",
       "      <td>-15.4</td>\n",
       "      <td>0.0</td>\n",
       "      <td>395.15</td>\n",
       "      <td>2</td>\n",
       "    </tr>\n",
       "    <tr>\n",
       "      <th>3</th>\n",
       "      <td>8.5</td>\n",
       "      <td>395.5</td>\n",
       "      <td>-15.4</td>\n",
       "      <td>0.0</td>\n",
       "      <td>395.15</td>\n",
       "      <td>2</td>\n",
       "    </tr>\n",
       "    <tr>\n",
       "      <th>4</th>\n",
       "      <td>8.5</td>\n",
       "      <td>395.5</td>\n",
       "      <td>-15.4</td>\n",
       "      <td>0.0</td>\n",
       "      <td>395.15</td>\n",
       "      <td>1</td>\n",
       "    </tr>\n",
       "  </tbody>\n",
       "</table>\n",
       "</div>"
      ],
      "text/plain": [
       "   Net Quantity  Gross Sales  Discounts  Returns  Total Net Sales  \\\n",
       "0           8.5        395.5      -15.4      0.0           395.15   \n",
       "1           8.5        395.5      -15.4      0.0           395.15   \n",
       "2           8.5        395.5      -15.4      0.0           395.15   \n",
       "3           8.5        395.5      -15.4      0.0           395.15   \n",
       "4           8.5        395.5      -15.4      0.0           395.15   \n",
       "\n",
       "   Product Type  \n",
       "0             1  \n",
       "1             2  \n",
       "2             2  \n",
       "3             2  \n",
       "4             1  "
      ]
     },
     "execution_count": 94,
     "metadata": {},
     "output_type": "execute_result"
    }
   ],
   "source": [
    "df_final.head()"
   ]
  },
  {
   "cell_type": "code",
   "execution_count": 95,
   "id": "30b53d3b-c659-4740-a546-fbaeb1913176",
   "metadata": {},
   "outputs": [],
   "source": [
    "x=df_final.drop('Total Net Sales',axis=1)\n",
    "y=df_final['Total Net Sales']"
   ]
  },
  {
   "cell_type": "code",
   "execution_count": 96,
   "id": "057bf33d-9177-4927-b039-45b57738e051",
   "metadata": {},
   "outputs": [],
   "source": [
    "from sklearn.model_selection import train_test_split\n",
    "x_train,x_test,y_train,y_test=train_test_split(x,y,test_size=0.3,random_state=42)"
   ]
  },
  {
   "cell_type": "code",
   "execution_count": 97,
   "id": "61fb8033-e50c-46fc-aab4-5e1e8ddc84f3",
   "metadata": {},
   "outputs": [
    {
     "data": {
      "text/plain": [
       "((1236, 5), (531, 5))"
      ]
     },
     "execution_count": 97,
     "metadata": {},
     "output_type": "execute_result"
    }
   ],
   "source": [
    "x_train.shape,x_test.shape"
   ]
  },
  {
   "cell_type": "code",
   "execution_count": 98,
   "id": "90d2e6c4-a639-4577-bc19-6676b0e83f1e",
   "metadata": {},
   "outputs": [
    {
     "data": {
      "text/plain": [
       "((1236,), (531,))"
      ]
     },
     "execution_count": 98,
     "metadata": {},
     "output_type": "execute_result"
    }
   ],
   "source": [
    "y_train.shape,y_test.shape"
   ]
  },
  {
   "cell_type": "code",
   "execution_count": 99,
   "id": "0a8b7fe6-b5a5-4da1-afe8-2f996cb47b30",
   "metadata": {},
   "outputs": [
    {
     "name": "stdout",
     "output_type": "stream",
     "text": [
      "Training Score : 99.66414441934737\n",
      "r2_score :  97.71032833064415\n"
     ]
    }
   ],
   "source": [
    "from sklearn.ensemble import RandomForestRegressor\n",
    "RF = RandomForestRegressor(random_state=42)\n",
    "RF.fit(x_train, y_train)\n",
    "y_pred=RF.predict(x_test)\n",
    "from sklearn.metrics import r2_score\n",
    "training_score = RF.score(x_train, y_train)*100\n",
    "print(f'Training Score : {training_score}')\n",
    "print(\"r2_score : \",r2_score(y_test,y_pred)*100)"
   ]
  },
  {
   "cell_type": "code",
   "execution_count": 81,
   "id": "d3823b98-9374-4e86-b2a1-ee47e7a1a6a6",
   "metadata": {},
   "outputs": [
    {
     "name": "stdout",
     "output_type": "stream",
     "text": [
      "Scores for each fold: [0.98884277 0.55766485 0.98736854]\n",
      "Mean cross-validation score: 0.844625386913938\n"
     ]
    }
   ],
   "source": [
    "from sklearn.model_selection import KFold, cross_val_score\n",
    "\n",
    "kf = KFold(n_splits=3, shuffle=True, random_state=42)\n",
    "\n",
    "scores = cross_val_score(RF, x, y, cv=kf)\n",
    "\n",
    "print(f\"Scores for each fold: {scores}\")\n",
    "print(f\"Mean cross-validation score: {scores.mean()}\")"
   ]
  },
  {
   "cell_type": "code",
   "execution_count": 32,
   "id": "81abc372-ee1b-4afa-8e07-545740dce07d",
   "metadata": {},
   "outputs": [],
   "source": [
    "param_grid={\n",
    "    'n_estimators':[500,1000,1500,3000],\n",
    "    'criterion':['squared_error'],\n",
    "    'max_depth':['None',5,10,20],\n",
    "    'min_samples_split':[2,3,4,5],\n",
    "    'min_samples_leaf':[1,2,3,4],\n",
    "    'random_state':['None',21,42,50]\n",
    "    }"
   ]
  },
  {
   "cell_type": "code",
   "execution_count": null,
   "id": "2dee14bb-53c3-453c-952c-77491eb94154",
   "metadata": {},
   "outputs": [
    {
     "name": "stdout",
     "output_type": "stream",
     "text": [
      "Fitting 5 folds for each of 1024 candidates, totalling 5120 fits\n"
     ]
    }
   ],
   "source": [
    "from sklearn.model_selection import GridSearchCV\n",
    "grid_search = GridSearchCV(estimator=RF, param_grid=param_grid, cv=5, n_jobs=-1, verbose=2)\n",
    "\n",
    "grid_search.fit(x_train, y_train)\n",
    "\n",
    "print(f\"Best Parameters: {grid_search.best_params_}\")\n",
    "print(f\"Best Score: {grid_search.best_score_}\")\n",
    "\n",
    "y_pred = grid_search.predict(x_test)\n",
    "\n",
    "r2_score = r2_score(y_test, y_pred)\n",
    "print(f\"Test Set r2_score: {r2_score}\")"
   ]
  },
  {
   "cell_type": "code",
   "execution_count": null,
   "id": "5314f8ba-5b00-41e1-a232-21850e1dbaaa",
   "metadata": {},
   "outputs": [],
   "source": []
  },
  {
   "cell_type": "markdown",
   "id": "cc88ad2f-910f-4f25-86ce-c3601a5adc3f",
   "metadata": {},
   "source": [
    "# NEW"
   ]
  },
  {
   "cell_type": "code",
   "execution_count": 4,
   "id": "391639d7-4429-469f-854a-1b1e1ae3c131",
   "metadata": {},
   "outputs": [],
   "source": [
    "from sklearn.model_selection import train_test_split\n",
    "from sklearn.compose import ColumnTransformer\n",
    "from sklearn.impute import SimpleImputer\n",
    "from sklearn.preprocessing import OneHotEncoder\n",
    "from sklearn.preprocessing import MinMaxScaler\n",
    "from sklearn.pipeline import Pipeline,make_pipeline\n",
    "from sklearn.feature_selection import SelectKBest,chi2\n",
    "from sklearn.ensemble import RandomForestRegressor\n",
    "from feature_engine.outliers import Winsorizer"
   ]
  },
  {
   "cell_type": "code",
   "execution_count": 5,
   "id": "03fd0dcc-2ad6-4710-83cd-0ec7b160fc53",
   "metadata": {},
   "outputs": [
    {
     "data": {
      "text/html": [
       "<div>\n",
       "<style scoped>\n",
       "    .dataframe tbody tr th:only-of-type {\n",
       "        vertical-align: middle;\n",
       "    }\n",
       "\n",
       "    .dataframe tbody tr th {\n",
       "        vertical-align: top;\n",
       "    }\n",
       "\n",
       "    .dataframe thead th {\n",
       "        text-align: right;\n",
       "    }\n",
       "</style>\n",
       "<table border=\"1\" class=\"dataframe\">\n",
       "  <thead>\n",
       "    <tr style=\"text-align: right;\">\n",
       "      <th></th>\n",
       "      <th>Product Type</th>\n",
       "      <th>Net Quantity</th>\n",
       "      <th>Gross Sales</th>\n",
       "      <th>Discounts</th>\n",
       "      <th>Returns</th>\n",
       "      <th>Total Net Sales</th>\n",
       "    </tr>\n",
       "  </thead>\n",
       "  <tbody>\n",
       "    <tr>\n",
       "      <th>0</th>\n",
       "      <td>Art &amp; Sculpture</td>\n",
       "      <td>34</td>\n",
       "      <td>14935.0</td>\n",
       "      <td>-594.00</td>\n",
       "      <td>-1609.0</td>\n",
       "      <td>12732.00</td>\n",
       "    </tr>\n",
       "    <tr>\n",
       "      <th>1</th>\n",
       "      <td>Basket</td>\n",
       "      <td>13</td>\n",
       "      <td>3744.0</td>\n",
       "      <td>-316.80</td>\n",
       "      <td>0.0</td>\n",
       "      <td>3427.20</td>\n",
       "    </tr>\n",
       "    <tr>\n",
       "      <th>2</th>\n",
       "      <td>Basket</td>\n",
       "      <td>12</td>\n",
       "      <td>3825.0</td>\n",
       "      <td>-201.60</td>\n",
       "      <td>-288.0</td>\n",
       "      <td>3335.40</td>\n",
       "    </tr>\n",
       "    <tr>\n",
       "      <th>3</th>\n",
       "      <td>Basket</td>\n",
       "      <td>17</td>\n",
       "      <td>3035.0</td>\n",
       "      <td>-63.25</td>\n",
       "      <td>0.0</td>\n",
       "      <td>2971.75</td>\n",
       "    </tr>\n",
       "    <tr>\n",
       "      <th>4</th>\n",
       "      <td>Art &amp; Sculpture</td>\n",
       "      <td>47</td>\n",
       "      <td>2696.8</td>\n",
       "      <td>-44.16</td>\n",
       "      <td>0.0</td>\n",
       "      <td>2652.64</td>\n",
       "    </tr>\n",
       "  </tbody>\n",
       "</table>\n",
       "</div>"
      ],
      "text/plain": [
       "      Product Type  Net Quantity  Gross Sales  Discounts  Returns  \\\n",
       "0  Art & Sculpture            34      14935.0    -594.00  -1609.0   \n",
       "1           Basket            13       3744.0    -316.80      0.0   \n",
       "2           Basket            12       3825.0    -201.60   -288.0   \n",
       "3           Basket            17       3035.0     -63.25      0.0   \n",
       "4  Art & Sculpture            47       2696.8     -44.16      0.0   \n",
       "\n",
       "   Total Net Sales  \n",
       "0         12732.00  \n",
       "1          3427.20  \n",
       "2          3335.40  \n",
       "3          2971.75  \n",
       "4          2652.64  "
      ]
     },
     "execution_count": 5,
     "metadata": {},
     "output_type": "execute_result"
    }
   ],
   "source": [
    "df.head()"
   ]
  },
  {
   "cell_type": "code",
   "execution_count": 6,
   "id": "6c9eeae8-1f17-4204-9287-998d02df11d7",
   "metadata": {},
   "outputs": [
    {
     "data": {
      "text/plain": [
       "Index(['Product Type', 'Net Quantity', 'Gross Sales', 'Discounts', 'Returns',\n",
       "       'Total Net Sales'],\n",
       "      dtype='object')"
      ]
     },
     "execution_count": 6,
     "metadata": {},
     "output_type": "execute_result"
    }
   ],
   "source": [
    "df.columns"
   ]
  },
  {
   "cell_type": "code",
   "execution_count": 7,
   "id": "30781deb-d1bb-4ea5-940e-d6d92f55e850",
   "metadata": {},
   "outputs": [
    {
     "data": {
      "text/plain": [
       "(1775, 6)"
      ]
     },
     "execution_count": 7,
     "metadata": {},
     "output_type": "execute_result"
    }
   ],
   "source": [
    "df.shape"
   ]
  },
  {
   "cell_type": "code",
   "execution_count": 8,
   "id": "f89cf70f-2b11-490b-8e9a-eab2d2488ca0",
   "metadata": {},
   "outputs": [
    {
     "data": {
      "text/plain": [
       "Product Type       8\n",
       "Net Quantity       0\n",
       "Gross Sales        0\n",
       "Discounts          0\n",
       "Returns            0\n",
       "Total Net Sales    0\n",
       "dtype: int64"
      ]
     },
     "execution_count": 8,
     "metadata": {},
     "output_type": "execute_result"
    }
   ],
   "source": [
    "df.isnull().sum()"
   ]
  },
  {
   "cell_type": "code",
   "execution_count": 9,
   "id": "6bae40bb-d1a2-41e8-9705-f78cf5cd0f36",
   "metadata": {},
   "outputs": [
    {
     "data": {
      "text/plain": [
       "Returns\n",
       " 0.00      1676\n",
       "-38.00        8\n",
       "-110.00       7\n",
       "-28.00        7\n",
       "-56.00        6\n",
       "           ... \n",
       "-38.88        1\n",
       "-104.00       1\n",
       "-376.00       1\n",
       "-43.50        1\n",
       "-106.25       1\n",
       "Name: count, Length: 62, dtype: int64"
      ]
     },
     "execution_count": 9,
     "metadata": {},
     "output_type": "execute_result"
    }
   ],
   "source": [
    "df['Returns'].value_counts()"
   ]
  },
  {
   "cell_type": "code",
   "execution_count": 10,
   "id": "fa8159f3-e2e2-497a-bd8e-e3a727f46588",
   "metadata": {},
   "outputs": [],
   "source": [
    "# Step 1 -> train/test/split\n",
    "X_train,X_test,y_train,y_test = train_test_split(df.drop(columns=['Total Net Sales']),\n",
    "                                                 df['Total Net Sales'],\n",
    "                                                 test_size=0.2,\n",
    "                                                random_state=42)"
   ]
  },
  {
   "cell_type": "code",
   "execution_count": 11,
   "id": "89af5091-c6e6-446a-80cb-dc0af32555f6",
   "metadata": {},
   "outputs": [
    {
     "data": {
      "text/html": [
       "<div>\n",
       "<style scoped>\n",
       "    .dataframe tbody tr th:only-of-type {\n",
       "        vertical-align: middle;\n",
       "    }\n",
       "\n",
       "    .dataframe tbody tr th {\n",
       "        vertical-align: top;\n",
       "    }\n",
       "\n",
       "    .dataframe thead th {\n",
       "        text-align: right;\n",
       "    }\n",
       "</style>\n",
       "<table border=\"1\" class=\"dataframe\">\n",
       "  <thead>\n",
       "    <tr style=\"text-align: right;\">\n",
       "      <th></th>\n",
       "      <th>Product Type</th>\n",
       "      <th>Net Quantity</th>\n",
       "      <th>Gross Sales</th>\n",
       "      <th>Discounts</th>\n",
       "      <th>Returns</th>\n",
       "    </tr>\n",
       "  </thead>\n",
       "  <tbody>\n",
       "    <tr>\n",
       "      <th>1040</th>\n",
       "      <td>Kitchen</td>\n",
       "      <td>7</td>\n",
       "      <td>76.5</td>\n",
       "      <td>-3.67</td>\n",
       "      <td>0.0</td>\n",
       "    </tr>\n",
       "    <tr>\n",
       "      <th>198</th>\n",
       "      <td>Art &amp; Sculpture</td>\n",
       "      <td>1</td>\n",
       "      <td>350.0</td>\n",
       "      <td>0.00</td>\n",
       "      <td>0.0</td>\n",
       "    </tr>\n",
       "    <tr>\n",
       "      <th>15</th>\n",
       "      <td>Jewelry</td>\n",
       "      <td>33</td>\n",
       "      <td>1584.0</td>\n",
       "      <td>-67.17</td>\n",
       "      <td>0.0</td>\n",
       "    </tr>\n",
       "    <tr>\n",
       "      <th>265</th>\n",
       "      <td>Music</td>\n",
       "      <td>16</td>\n",
       "      <td>292.0</td>\n",
       "      <td>-12.20</td>\n",
       "      <td>0.0</td>\n",
       "    </tr>\n",
       "    <tr>\n",
       "      <th>817</th>\n",
       "      <td>Furniture</td>\n",
       "      <td>1</td>\n",
       "      <td>110.0</td>\n",
       "      <td>0.00</td>\n",
       "      <td>0.0</td>\n",
       "    </tr>\n",
       "  </tbody>\n",
       "</table>\n",
       "</div>"
      ],
      "text/plain": [
       "         Product Type  Net Quantity  Gross Sales  Discounts  Returns\n",
       "1040          Kitchen             7         76.5      -3.67      0.0\n",
       "198   Art & Sculpture             1        350.0       0.00      0.0\n",
       "15            Jewelry            33       1584.0     -67.17      0.0\n",
       "265             Music            16        292.0     -12.20      0.0\n",
       "817         Furniture             1        110.0       0.00      0.0"
      ]
     },
     "execution_count": 11,
     "metadata": {},
     "output_type": "execute_result"
    }
   ],
   "source": [
    "X_train.head()"
   ]
  },
  {
   "cell_type": "code",
   "execution_count": 12,
   "id": "13b63d85-6dc2-4029-b7fa-af532498797b",
   "metadata": {},
   "outputs": [
    {
     "data": {
      "text/plain": [
       "1040      72.83\n",
       "198      350.00\n",
       "15      1516.83\n",
       "265      279.80\n",
       "817      110.00\n",
       "Name: Total Net Sales, dtype: float64"
      ]
     },
     "execution_count": 12,
     "metadata": {},
     "output_type": "execute_result"
    }
   ],
   "source": [
    "y_train.head()"
   ]
  },
  {
   "cell_type": "code",
   "execution_count": 13,
   "id": "09c495ba-c313-437b-9f31-44616e6fc128",
   "metadata": {},
   "outputs": [
    {
     "data": {
      "text/plain": [
       "Index(['Product Type', 'Net Quantity', 'Gross Sales', 'Discounts', 'Returns',\n",
       "       'Total Net Sales'],\n",
       "      dtype='object')"
      ]
     },
     "execution_count": 13,
     "metadata": {},
     "output_type": "execute_result"
    }
   ],
   "source": [
    "df.columns"
   ]
  },
  {
   "cell_type": "code",
   "execution_count": 21,
   "id": "face0e74-217f-4b7f-9486-6eb21761c25d",
   "metadata": {},
   "outputs": [],
   "source": [
    "# Label encoding\n",
    "trf1 = ColumnTransformer([\n",
    "    ('ohe_Ptype',OneHotEncoder(sparse=False,handle_unknown='ignore'),[0])\n",
    "],remainder='passthrough')"
   ]
  },
  {
   "cell_type": "code",
   "execution_count": 22,
   "id": "0d8cb302-80ac-41b1-971c-2ea1f5d4c284",
   "metadata": {},
   "outputs": [
    {
     "data": {
      "text/plain": [
       "Index(['Net Quantity', 'Gross Sales', 'Discounts', 'Returns'], dtype='object')"
      ]
     },
     "execution_count": 22,
     "metadata": {},
     "output_type": "execute_result"
    }
   ],
   "source": [
    "X_train.columns[1:5]"
   ]
  },
  {
   "cell_type": "code",
   "execution_count": 23,
   "id": "221ba4e8-79e1-4b0e-8c38-d4791ec60fd5",
   "metadata": {},
   "outputs": [],
   "source": [
    "\n",
    "# Scaling\n",
    "trf2 = ColumnTransformer([\n",
    "    ('scale',MinMaxScaler(),slice(0,24))\n",
    "])"
   ]
  },
  {
   "cell_type": "code",
   "execution_count": 24,
   "id": "bc8d7df6-074c-44cd-ad09-5dd3464a9de2",
   "metadata": {},
   "outputs": [],
   "source": [
    "# train the model\n",
    "trf3 = RandomForestRegressor()"
   ]
  },
  {
   "cell_type": "code",
   "execution_count": 26,
   "id": "0d90acd9-f831-4604-b703-fc89be2fcb24",
   "metadata": {},
   "outputs": [],
   "source": [
    "# creating pipeline\n",
    "pipe = Pipeline([\n",
    "    ('trf1',trf1),\n",
    "    ('trf2',trf2),\n",
    "    ('trf3',trf3)\n",
    "])"
   ]
  },
  {
   "cell_type": "code",
   "execution_count": 27,
   "id": "2213eac7-7555-446e-a060-9a7ac11934a4",
   "metadata": {},
   "outputs": [
    {
     "name": "stderr",
     "output_type": "stream",
     "text": [
      "C:\\Users\\DELL\\AppData\\Local\\Programs\\Python\\Python312\\Lib\\site-packages\\sklearn\\preprocessing\\_encoders.py:975: FutureWarning: `sparse` was renamed to `sparse_output` in version 1.2 and will be removed in 1.4. `sparse_output` is ignored unless you leave `sparse` to its default value.\n",
      "  warnings.warn(\n"
     ]
    },
    {
     "data": {
      "text/html": [
       "<style>#sk-container-id-1 {color: black;}#sk-container-id-1 pre{padding: 0;}#sk-container-id-1 div.sk-toggleable {background-color: white;}#sk-container-id-1 label.sk-toggleable__label {cursor: pointer;display: block;width: 100%;margin-bottom: 0;padding: 0.3em;box-sizing: border-box;text-align: center;}#sk-container-id-1 label.sk-toggleable__label-arrow:before {content: \"▸\";float: left;margin-right: 0.25em;color: #696969;}#sk-container-id-1 label.sk-toggleable__label-arrow:hover:before {color: black;}#sk-container-id-1 div.sk-estimator:hover label.sk-toggleable__label-arrow:before {color: black;}#sk-container-id-1 div.sk-toggleable__content {max-height: 0;max-width: 0;overflow: hidden;text-align: left;background-color: #f0f8ff;}#sk-container-id-1 div.sk-toggleable__content pre {margin: 0.2em;color: black;border-radius: 0.25em;background-color: #f0f8ff;}#sk-container-id-1 input.sk-toggleable__control:checked~div.sk-toggleable__content {max-height: 200px;max-width: 100%;overflow: auto;}#sk-container-id-1 input.sk-toggleable__control:checked~label.sk-toggleable__label-arrow:before {content: \"▾\";}#sk-container-id-1 div.sk-estimator input.sk-toggleable__control:checked~label.sk-toggleable__label {background-color: #d4ebff;}#sk-container-id-1 div.sk-label input.sk-toggleable__control:checked~label.sk-toggleable__label {background-color: #d4ebff;}#sk-container-id-1 input.sk-hidden--visually {border: 0;clip: rect(1px 1px 1px 1px);clip: rect(1px, 1px, 1px, 1px);height: 1px;margin: -1px;overflow: hidden;padding: 0;position: absolute;width: 1px;}#sk-container-id-1 div.sk-estimator {font-family: monospace;background-color: #f0f8ff;border: 1px dotted black;border-radius: 0.25em;box-sizing: border-box;margin-bottom: 0.5em;}#sk-container-id-1 div.sk-estimator:hover {background-color: #d4ebff;}#sk-container-id-1 div.sk-parallel-item::after {content: \"\";width: 100%;border-bottom: 1px solid gray;flex-grow: 1;}#sk-container-id-1 div.sk-label:hover label.sk-toggleable__label {background-color: #d4ebff;}#sk-container-id-1 div.sk-serial::before {content: \"\";position: absolute;border-left: 1px solid gray;box-sizing: border-box;top: 0;bottom: 0;left: 50%;z-index: 0;}#sk-container-id-1 div.sk-serial {display: flex;flex-direction: column;align-items: center;background-color: white;padding-right: 0.2em;padding-left: 0.2em;position: relative;}#sk-container-id-1 div.sk-item {position: relative;z-index: 1;}#sk-container-id-1 div.sk-parallel {display: flex;align-items: stretch;justify-content: center;background-color: white;position: relative;}#sk-container-id-1 div.sk-item::before, #sk-container-id-1 div.sk-parallel-item::before {content: \"\";position: absolute;border-left: 1px solid gray;box-sizing: border-box;top: 0;bottom: 0;left: 50%;z-index: -1;}#sk-container-id-1 div.sk-parallel-item {display: flex;flex-direction: column;z-index: 1;position: relative;background-color: white;}#sk-container-id-1 div.sk-parallel-item:first-child::after {align-self: flex-end;width: 50%;}#sk-container-id-1 div.sk-parallel-item:last-child::after {align-self: flex-start;width: 50%;}#sk-container-id-1 div.sk-parallel-item:only-child::after {width: 0;}#sk-container-id-1 div.sk-dashed-wrapped {border: 1px dashed gray;margin: 0 0.4em 0.5em 0.4em;box-sizing: border-box;padding-bottom: 0.4em;background-color: white;}#sk-container-id-1 div.sk-label label {font-family: monospace;font-weight: bold;display: inline-block;line-height: 1.2em;}#sk-container-id-1 div.sk-label-container {text-align: center;}#sk-container-id-1 div.sk-container {/* jupyter's `normalize.less` sets `[hidden] { display: none; }` but bootstrap.min.css set `[hidden] { display: none !important; }` so we also need the `!important` here to be able to override the default hidden behavior on the sphinx rendered scikit-learn.org. See: https://github.com/scikit-learn/scikit-learn/issues/21755 */display: inline-block !important;position: relative;}#sk-container-id-1 div.sk-text-repr-fallback {display: none;}</style><div id=\"sk-container-id-1\" class=\"sk-top-container\"><div class=\"sk-text-repr-fallback\"><pre>Pipeline(steps=[(&#x27;trf1&#x27;,\n",
       "                 ColumnTransformer(remainder=&#x27;passthrough&#x27;,\n",
       "                                   transformers=[(&#x27;ohe_Ptype&#x27;,\n",
       "                                                  OneHotEncoder(handle_unknown=&#x27;ignore&#x27;,\n",
       "                                                                sparse=False),\n",
       "                                                  [0])])),\n",
       "                (&#x27;trf2&#x27;,\n",
       "                 ColumnTransformer(transformers=[(&#x27;scale&#x27;, MinMaxScaler(),\n",
       "                                                  slice(0, 24, None))])),\n",
       "                (&#x27;trf3&#x27;, RandomForestRegressor())])</pre><b>In a Jupyter environment, please rerun this cell to show the HTML representation or trust the notebook. <br />On GitHub, the HTML representation is unable to render, please try loading this page with nbviewer.org.</b></div><div class=\"sk-container\" hidden><div class=\"sk-item sk-dashed-wrapped\"><div class=\"sk-label-container\"><div class=\"sk-label sk-toggleable\"><input class=\"sk-toggleable__control sk-hidden--visually\" id=\"sk-estimator-id-1\" type=\"checkbox\" ><label for=\"sk-estimator-id-1\" class=\"sk-toggleable__label sk-toggleable__label-arrow\">Pipeline</label><div class=\"sk-toggleable__content\"><pre>Pipeline(steps=[(&#x27;trf1&#x27;,\n",
       "                 ColumnTransformer(remainder=&#x27;passthrough&#x27;,\n",
       "                                   transformers=[(&#x27;ohe_Ptype&#x27;,\n",
       "                                                  OneHotEncoder(handle_unknown=&#x27;ignore&#x27;,\n",
       "                                                                sparse=False),\n",
       "                                                  [0])])),\n",
       "                (&#x27;trf2&#x27;,\n",
       "                 ColumnTransformer(transformers=[(&#x27;scale&#x27;, MinMaxScaler(),\n",
       "                                                  slice(0, 24, None))])),\n",
       "                (&#x27;trf3&#x27;, RandomForestRegressor())])</pre></div></div></div><div class=\"sk-serial\"><div class=\"sk-item sk-dashed-wrapped\"><div class=\"sk-label-container\"><div class=\"sk-label sk-toggleable\"><input class=\"sk-toggleable__control sk-hidden--visually\" id=\"sk-estimator-id-2\" type=\"checkbox\" ><label for=\"sk-estimator-id-2\" class=\"sk-toggleable__label sk-toggleable__label-arrow\">trf1: ColumnTransformer</label><div class=\"sk-toggleable__content\"><pre>ColumnTransformer(remainder=&#x27;passthrough&#x27;,\n",
       "                  transformers=[(&#x27;ohe_Ptype&#x27;,\n",
       "                                 OneHotEncoder(handle_unknown=&#x27;ignore&#x27;,\n",
       "                                               sparse=False),\n",
       "                                 [0])])</pre></div></div></div><div class=\"sk-parallel\"><div class=\"sk-parallel-item\"><div class=\"sk-item\"><div class=\"sk-label-container\"><div class=\"sk-label sk-toggleable\"><input class=\"sk-toggleable__control sk-hidden--visually\" id=\"sk-estimator-id-3\" type=\"checkbox\" ><label for=\"sk-estimator-id-3\" class=\"sk-toggleable__label sk-toggleable__label-arrow\">ohe_Ptype</label><div class=\"sk-toggleable__content\"><pre>[0]</pre></div></div></div><div class=\"sk-serial\"><div class=\"sk-item\"><div class=\"sk-estimator sk-toggleable\"><input class=\"sk-toggleable__control sk-hidden--visually\" id=\"sk-estimator-id-4\" type=\"checkbox\" ><label for=\"sk-estimator-id-4\" class=\"sk-toggleable__label sk-toggleable__label-arrow\">OneHotEncoder</label><div class=\"sk-toggleable__content\"><pre>OneHotEncoder(handle_unknown=&#x27;ignore&#x27;, sparse=False)</pre></div></div></div></div></div></div><div class=\"sk-parallel-item\"><div class=\"sk-item\"><div class=\"sk-label-container\"><div class=\"sk-label sk-toggleable\"><input class=\"sk-toggleable__control sk-hidden--visually\" id=\"sk-estimator-id-5\" type=\"checkbox\" ><label for=\"sk-estimator-id-5\" class=\"sk-toggleable__label sk-toggleable__label-arrow\">remainder</label><div class=\"sk-toggleable__content\"><pre>[&#x27;Net Quantity&#x27;, &#x27;Gross Sales&#x27;, &#x27;Discounts&#x27;, &#x27;Returns&#x27;]</pre></div></div></div><div class=\"sk-serial\"><div class=\"sk-item\"><div class=\"sk-estimator sk-toggleable\"><input class=\"sk-toggleable__control sk-hidden--visually\" id=\"sk-estimator-id-6\" type=\"checkbox\" ><label for=\"sk-estimator-id-6\" class=\"sk-toggleable__label sk-toggleable__label-arrow\">passthrough</label><div class=\"sk-toggleable__content\"><pre>passthrough</pre></div></div></div></div></div></div></div></div><div class=\"sk-item sk-dashed-wrapped\"><div class=\"sk-label-container\"><div class=\"sk-label sk-toggleable\"><input class=\"sk-toggleable__control sk-hidden--visually\" id=\"sk-estimator-id-7\" type=\"checkbox\" ><label for=\"sk-estimator-id-7\" class=\"sk-toggleable__label sk-toggleable__label-arrow\">trf2: ColumnTransformer</label><div class=\"sk-toggleable__content\"><pre>ColumnTransformer(transformers=[(&#x27;scale&#x27;, MinMaxScaler(), slice(0, 24, None))])</pre></div></div></div><div class=\"sk-parallel\"><div class=\"sk-parallel-item\"><div class=\"sk-item\"><div class=\"sk-label-container\"><div class=\"sk-label sk-toggleable\"><input class=\"sk-toggleable__control sk-hidden--visually\" id=\"sk-estimator-id-8\" type=\"checkbox\" ><label for=\"sk-estimator-id-8\" class=\"sk-toggleable__label sk-toggleable__label-arrow\">scale</label><div class=\"sk-toggleable__content\"><pre>slice(0, 24, None)</pre></div></div></div><div class=\"sk-serial\"><div class=\"sk-item\"><div class=\"sk-estimator sk-toggleable\"><input class=\"sk-toggleable__control sk-hidden--visually\" id=\"sk-estimator-id-9\" type=\"checkbox\" ><label for=\"sk-estimator-id-9\" class=\"sk-toggleable__label sk-toggleable__label-arrow\">MinMaxScaler</label><div class=\"sk-toggleable__content\"><pre>MinMaxScaler()</pre></div></div></div></div></div></div></div></div><div class=\"sk-item\"><div class=\"sk-estimator sk-toggleable\"><input class=\"sk-toggleable__control sk-hidden--visually\" id=\"sk-estimator-id-10\" type=\"checkbox\" ><label for=\"sk-estimator-id-10\" class=\"sk-toggleable__label sk-toggleable__label-arrow\">RandomForestRegressor</label><div class=\"sk-toggleable__content\"><pre>RandomForestRegressor()</pre></div></div></div></div></div></div></div>"
      ],
      "text/plain": [
       "Pipeline(steps=[('trf1',\n",
       "                 ColumnTransformer(remainder='passthrough',\n",
       "                                   transformers=[('ohe_Ptype',\n",
       "                                                  OneHotEncoder(handle_unknown='ignore',\n",
       "                                                                sparse=False),\n",
       "                                                  [0])])),\n",
       "                ('trf2',\n",
       "                 ColumnTransformer(transformers=[('scale', MinMaxScaler(),\n",
       "                                                  slice(0, 24, None))])),\n",
       "                ('trf3', RandomForestRegressor())])"
      ]
     },
     "execution_count": 27,
     "metadata": {},
     "output_type": "execute_result"
    }
   ],
   "source": [
    "# train\n",
    "pipe.fit(X_train,y_train)"
   ]
  },
  {
   "cell_type": "code",
   "execution_count": 28,
   "id": "efd68fe8-ca35-4fd0-9af0-2d22195bd18f",
   "metadata": {},
   "outputs": [
    {
     "data": {
      "text/plain": [
       "{'trf1': ColumnTransformer(remainder='passthrough',\n",
       "                   transformers=[('ohe_Ptype',\n",
       "                                  OneHotEncoder(handle_unknown='ignore',\n",
       "                                                sparse=False),\n",
       "                                  [0])]),\n",
       " 'trf2': ColumnTransformer(transformers=[('scale', MinMaxScaler(), slice(0, 24, None))]),\n",
       " 'trf3': RandomForestRegressor()}"
      ]
     },
     "execution_count": 28,
     "metadata": {},
     "output_type": "execute_result"
    }
   ],
   "source": [
    "# Code here\n",
    "pipe.named_steps"
   ]
  },
  {
   "cell_type": "code",
   "execution_count": 29,
   "id": "a0b810cf-f996-4c4f-ba22-c4ac6549b210",
   "metadata": {},
   "outputs": [],
   "source": [
    "# Predict\n",
    "y_pred = pipe.predict(X_test)"
   ]
  },
  {
   "cell_type": "code",
   "execution_count": 30,
   "id": "a5391323-b472-4072-9520-9e8e9a4956af",
   "metadata": {},
   "outputs": [
    {
     "data": {
      "text/plain": [
       "array([ 862.5558,   68.    ,   77.5445,  219.67  ,  157.581 ,   71.888 ,\n",
       "        115.99  ,  233.213 ,  175.    ,  203.3339,   58.436 ,   64.361 ,\n",
       "         18.    ,   28.    ,   28.    ,   28.9064,  557.6726,   96.0933,\n",
       "         75.98  ,   96.    ,  215.8515,   13.855 ,   17.98  ,   48.    ,\n",
       "        213.5301,   47.952 ,   61.2857,  196.1912,   68.    ,   57.585 ,\n",
       "        149.5429,  110.    ,  135.3157,   41.4139,  291.0432,   83.6566,\n",
       "        543.0431,   38.    ,  107.3594, 1109.0505,  331.877 ,  151.5726,\n",
       "        187.256 ,  129.1431,   51.849 ,  168.0306,  209.5039,  145.    ,\n",
       "         58.    ,  223.5109,   50.7876,  844.4436,   66.0498,  269.7436,\n",
       "        102.619 ,  419.7636,  518.9923,  100.5441,  227.7425,  157.581 ,\n",
       "         40.035 ,  130.076 ,   58.    ,   77.685 ,  145.    ,   24.    ,\n",
       "       1357.0312,  169.3015,   48.    ,   53.9439,  275.0929,   48.    ,\n",
       "         29.3647,   68.    ,  539.9369,  143.9401,   36.    ,  116.2238,\n",
       "        166.41  ,  150.5924,   42.114 ,  145.    ,  329.2525,   48.    ,\n",
       "         18.    ,  185.    ,  203.572 ,   69.4395,   18.    ,  300.0613,\n",
       "         74.99  ,  150.405 ,  159.2401,  185.03  ,   68.    ,  335.2255,\n",
       "        164.356 ,  175.1023,   24.7736,  145.    ,  125.    ,   67.966 ,\n",
       "        314.9136,  338.9468,  149.5429,   90.062 ,   97.7063,   18.    ,\n",
       "         21.967 ,   86.5319,  110.    ,  175.    ,  175.    ,  160.9424,\n",
       "        150.396 ,   60.5702,  185.    ,  361.2323,   54.022 ,  312.792 ,\n",
       "         23.4864,    1.9   ,  175.    ,   98.6568,  211.8725,  241.0388,\n",
       "        188.655 ,   28.    ,  306.362 ,  219.67  ,  946.5774,   60.5211,\n",
       "        154.6039,   29.985 ,   48.    ,   44.    ,   48.    ,  174.8825,\n",
       "         15.993 ,  175.    ,  734.566 ,  110.448 ,   18.    , 1011.9315,\n",
       "        902.821 ,  175.    ,  159.098 ,  120.222 ,  190.075 ,  195.4727,\n",
       "        134.866 ,  125.281 ,   24.    ,  225.104 ,   44.    ,  724.56  ,\n",
       "         12.047 ,  453.3754,   13.865 ,   55.6969,   56.    ,  138.3769,\n",
       "         36.    ,   90.7553,   21.6337,  135.99  , 1108.1454,   64.7958,\n",
       "         67.68  ,   24.    ,   18.    ,   76.274 ,   38.    ,  621.4642,\n",
       "         87.6791,  185.    ,   71.884 ,   64.3516,   65.984 ,  401.8057,\n",
       "         56.    ,  195.5756,  166.41  ,  129.6431,   17.98  ,   83.5906,\n",
       "        120.57  ,  165.96  ,   88.2769, 1081.1989,   61.5529,  121.77  ,\n",
       "         52.2624,   43.2601,   91.743 ,   62.5968,  382.7716,   89.944 ,\n",
       "         22.    ,   89.8602,  997.0323,  124.992 ,   58.    ,  185.    ,\n",
       "        349.6078,   68.    ,   81.077 ,   89.944 ,  908.3132,   56.    ,\n",
       "        145.7344,   36.    ,  113.8646,   62.593 ,   18.    ,   56.    ,\n",
       "         38.    ,   32.    ,  513.3073,  322.924 ,  262.2996,  114.86  ,\n",
       "         18.    ,  203.512 ,   41.976 ,   28.    ,   34.    ,  122.026 ,\n",
       "        164.782 ,   43.9892,   38.    ,   38.    ,   28.    ,   58.    ,\n",
       "         32.    ,   32.    ,   48.    ,   83.3669,   69.4661,   34.    ,\n",
       "         62.3729,   98.2237,  250.9225,  824.2691,  185.03  ,  203.512 ,\n",
       "        122.469 ,  543.4717,   28.    ,   34.2195,   38.    ,   28.    ,\n",
       "         52.032 ,  258.3742,  199.61  ,   71.896 ,   28.    ,   66.    ,\n",
       "        188.655 ,  196.    ,   43.0741,   39.6177,   55.2213,   38.981 ,\n",
       "        216.662 ,  115.99  ,  159.9743,   24.0826,  103.518 ,  281.5827,\n",
       "         58.    ,  311.3967,   43.9892,  145.    ,   89.962 ,  110.757 ,\n",
       "        145.7782,   56.    ,  885.8642,   13.947 ,  284.0731, 1059.2169,\n",
       "         52.2683,   37.3931,  166.41  ,   56.    ,  185.    ,   28.    ,\n",
       "         44.    ,  185.    ,   34.    ,  143.9401,  127.141 ,   87.9381,\n",
       "        223.5584,   79.2145,   53.9639,  476.767 ,   58.    ,  145.    ,\n",
       "         24.0826,  174.0481,  187.1901,   34.    ,  269.1987,  393.5544,\n",
       "        120.006 ,  301.4681,   44.01  ,   20.0782,   52.6085,  115.99  ,\n",
       "         51.4745,   58.0432,   95.99  ,   48.    ,   48.    ,  297.1778,\n",
       "         29.2646,   36.1751,  187.4417,   80.6747,  179.406 ,   69.9653,\n",
       "        139.3241,  145.    ,   28.    ,  129.897 ,   18.    ,   29.2924,\n",
       "        407.2982,  175.    ,  175.1783,   99.4703,  242.8869,   21.967 ,\n",
       "        109.7466,   48.    ,  130.434 ,  155.3973,   95.96  ,   64.243 ,\n",
       "        110.    ,  166.41  ,    1.3959,   87.8481,  157.581 ,  405.4764,\n",
       "         58.265 ,  164.87  ,   43.44  ,   79.3356,  122.7532,  187.8287,\n",
       "         34.    ])"
      ]
     },
     "execution_count": 30,
     "metadata": {},
     "output_type": "execute_result"
    }
   ],
   "source": [
    "y_pred"
   ]
  },
  {
   "cell_type": "code",
   "execution_count": 31,
   "id": "fc2d9302-deac-4ece-be4a-4b27ecfe1a5f",
   "metadata": {},
   "outputs": [],
   "source": [
    "# Predict\n",
    "y_train_pred = pipe.predict(X_train)"
   ]
  },
  {
   "cell_type": "code",
   "execution_count": 32,
   "id": "23089068-edba-472f-856a-f33d38c44725",
   "metadata": {},
   "outputs": [
    {
     "data": {
      "text/plain": [
       "0.9690594637933182"
      ]
     },
     "execution_count": 32,
     "metadata": {},
     "output_type": "execute_result"
    }
   ],
   "source": [
    "from sklearn.metrics import r2_score\n",
    "r2_score(y_train,y_train_pred)"
   ]
  },
  {
   "cell_type": "code",
   "execution_count": 33,
   "id": "61380442-4451-42a0-8de6-a64b608284d5",
   "metadata": {},
   "outputs": [
    {
     "data": {
      "text/plain": [
       "0.9932989220210559"
      ]
     },
     "execution_count": 33,
     "metadata": {},
     "output_type": "execute_result"
    }
   ],
   "source": [
    "from sklearn.metrics import r2_score\n",
    "r2_score(y_test,y_pred)"
   ]
  },
  {
   "cell_type": "code",
   "execution_count": 39,
   "id": "16a51d72-376e-48d4-bac2-72c6886d5dae",
   "metadata": {},
   "outputs": [],
   "source": [
    "# export \n",
    "import pickle\n",
    "pickle.dump(pipe,open('pipe.pkl','wb'))"
   ]
  },
  {
   "cell_type": "code",
   "execution_count": 15,
   "id": "ffd16b67-19c7-4c39-9c1e-9a465ce5c183",
   "metadata": {},
   "outputs": [],
   "source": [
    "selected_columns = list(X_train.columns[1:5])"
   ]
  },
  {
   "cell_type": "raw",
   "id": "0daa960f-1c39-4839-875f-6a767d0e3f08",
   "metadata": {},
   "source": [
    "from sklearn.compose import ColumnTransformer\n",
    "from sklearn.pipeline import Pipeline\n",
    "from sklearn.preprocessing import OneHotEncoder, MinMaxScaler\n",
    "from feature_engine.outliers import Winsorizer\n",
    "from sklearn.ensemble import RandomForestRegressor\n",
    "\n",
    "# Define the transformers in a single ColumnTransformer\n",
    "preprocessor = ColumnTransformer(\n",
    "    transformers=[\n",
    "        ('ohe_Ptype', OneHotEncoder(handle_unknown='ignore', sparse_output=False), [0]),  # Apply OHE to column 0\n",
    "        ('winsorize', Winsorizer(fold=1.5, tail='both', variables=['Net Quantity', 'Gross Sales', 'Discounts', 'Returns'])),  # Winsorize selected columns\n",
    "        ('scale', MinMaxScaler(), slice(0, 24))  # Apply scaling to first 24 columns\n",
    "    ],\n",
    "    remainder='passthrough'  # Pass through any remaining columns\n",
    ")\n",
    "\n",
    "# Define the final pipeline\n",
    "pipe = Pipeline(steps=[\n",
    "    ('preprocessor', preprocessor),  # Preprocessing step\n",
    "    ('model', RandomForestRegressor())  # Model step\n",
    "])\n",
    "\n",
    "# Train the pipeline\n",
    "pipe.fit(X_train, y_train)\n"
   ]
  },
  {
   "cell_type": "code",
   "execution_count": null,
   "id": "c0a643ed-ac0f-474e-b308-933c1126a34b",
   "metadata": {},
   "outputs": [],
   "source": []
  }
 ],
 "metadata": {
  "kernelspec": {
   "display_name": "Python 3 (ipykernel)",
   "language": "python",
   "name": "python3"
  },
  "language_info": {
   "codemirror_mode": {
    "name": "ipython",
    "version": 3
   },
   "file_extension": ".py",
   "mimetype": "text/x-python",
   "name": "python",
   "nbconvert_exporter": "python",
   "pygments_lexer": "ipython3",
   "version": "3.12.2"
  }
 },
 "nbformat": 4,
 "nbformat_minor": 5
}
